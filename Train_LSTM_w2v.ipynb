{
 "cells": [
  {
   "cell_type": "code",
   "execution_count": 2,
   "metadata": {},
   "outputs": [],
   "source": [
    "from bibleabbr import *"
   ]
  },
  {
   "cell_type": "code",
   "execution_count": 3,
   "metadata": {},
   "outputs": [],
   "source": [
    "import numpy as np\n",
    "import shorttext\n",
    "import sqlite3"
   ]
  },
  {
   "cell_type": "markdown",
   "metadata": {},
   "source": [
    "# Scripture Loaded"
   ]
  },
  {
   "cell_type": "code",
   "execution_count": 3,
   "metadata": {},
   "outputs": [],
   "source": [
    "dbconn = sqlite3.connect('ESVCrossway.sqlite')"
   ]
  },
  {
   "cell_type": "code",
   "execution_count": 4,
   "metadata": {},
   "outputs": [],
   "source": [
    "from functools import reduce\n",
    "from nltk import sent_tokenize\n",
    "\n",
    "def retrieve_docs_as_biblechapters(dbconn):\n",
    "    cursor = dbconn.cursor()\n",
    "    for book in wholebible_book_iterator():\n",
    "        for chap in range(1, numchaps[book]+1):\n",
    "            doc_label = book+'_'+str(chap)\n",
    "            result = cursor.execute('select scripture from bible where book is \"'+book+'\" and chapter='+str(chap))\n",
    "            doc_text = reduce(lambda s1, s2: ' '.join([s1, s2]), [texttuple[0] for texttuple in result])\n",
    "            yield doc_label, doc_text\n",
    "    cursor.close()\n",
    "    "
   ]
  },
  {
   "cell_type": "code",
   "execution_count": 5,
   "metadata": {},
   "outputs": [],
   "source": [
    "from collections import defaultdict\n",
    "\n",
    "classdict = defaultdict(lambda : [])\n",
    "for bible_chap, verses in retrieve_docs_as_biblechapters(dbconn):\n",
    "    for verse in sent_tokenize(verses):\n",
    "        classdict[bible_chap] += [verse]"
   ]
  },
  {
   "cell_type": "markdown",
   "metadata": {},
   "source": [
    "# C-LSTM"
   ]
  },
  {
   "cell_type": "code",
   "execution_count": 10,
   "metadata": {},
   "outputs": [
    {
     "name": "stderr",
     "output_type": "stream",
     "text": [
      "/usr/local/lib/python3.5/dist-packages/smart_open/smart_open_lib.py:398: UserWarning: This function is deprecated, use smart_open.open instead. See the migration notes for details: https://github.com/RaRe-Technologies/smart_open/blob/master/README.rst#migrating-to-the-new-open-function\n",
      "  'See the migration notes for details: %s' % _MIGRATION_NOTES_URL\n"
     ]
    }
   ],
   "source": [
    "wmodel = shorttext.utils.load_word2vec_model('wordembedD/GoogleNews-vectors-negative300.bin')"
   ]
  },
  {
   "cell_type": "code",
   "execution_count": 12,
   "metadata": {},
   "outputs": [
    {
     "name": "stdout",
     "output_type": "stream",
     "text": [
      "WARNING:tensorflow:From /usr/local/lib/python3.5/dist-packages/tensorflow/python/framework/op_def_library.py:263: colocate_with (from tensorflow.python.framework.ops) is deprecated and will be removed in a future version.\n",
      "Instructions for updating:\n",
      "Colocations handled automatically by placer.\n",
      "WARNING:tensorflow:From /usr/local/lib/python3.5/dist-packages/keras/backend/tensorflow_backend.py:3445: calling dropout (from tensorflow.python.ops.nn_ops) with keep_prob is deprecated and will be removed in a future version.\n",
      "Instructions for updating:\n",
      "Please use `rate` instead of `keep_prob`. Rate should be set to `rate = 1 - keep_prob`.\n"
     ]
    }
   ],
   "source": [
    "kmodel = shorttext.classifiers.CLSTMWordEmbed(len(classdict.keys()), vecsize=wmodel.vector_size)"
   ]
  },
  {
   "cell_type": "code",
   "execution_count": 13,
   "metadata": {},
   "outputs": [],
   "source": [
    "classifier = shorttext.classifiers.VarNNEmbeddedVecClassifier(wmodel)"
   ]
  },
  {
   "cell_type": "code",
   "execution_count": 14,
   "metadata": {},
   "outputs": [
    {
     "name": "stdout",
     "output_type": "stream",
     "text": [
      "WARNING:tensorflow:From /usr/local/lib/python3.5/dist-packages/tensorflow/python/ops/math_ops.py:3066: to_int32 (from tensorflow.python.ops.math_ops) is deprecated and will be removed in a future version.\n",
      "Instructions for updating:\n",
      "Use tf.cast instead.\n",
      "Epoch 1/10\n",
      "35885/35885 [==============================] - 170s 5ms/step - loss: 6.1304\n",
      "Epoch 2/10\n",
      "35885/35885 [==============================] - 160s 4ms/step - loss: 4.4199\n",
      "Epoch 3/10\n",
      "35885/35885 [==============================] - 151s 4ms/step - loss: 3.0092\n",
      "Epoch 4/10\n",
      "35885/35885 [==============================] - 151s 4ms/step - loss: 1.7209\n",
      "Epoch 5/10\n",
      "35885/35885 [==============================] - 150s 4ms/step - loss: 0.8826\n",
      "Epoch 6/10\n",
      "35885/35885 [==============================] - 150s 4ms/step - loss: 0.5396\n",
      "Epoch 7/10\n",
      "35885/35885 [==============================] - 151s 4ms/step - loss: 0.4121\n",
      "Epoch 8/10\n",
      "35885/35885 [==============================] - 149s 4ms/step - loss: 0.3777\n",
      "Epoch 9/10\n",
      "35885/35885 [==============================] - 150s 4ms/step - loss: 0.3461\n",
      "Epoch 10/10\n",
      "35885/35885 [==============================] - 149s 4ms/step - loss: 0.3249\n"
     ]
    }
   ],
   "source": [
    "classifier.train(classdict, kmodel)"
   ]
  },
  {
   "cell_type": "code",
   "execution_count": 15,
   "metadata": {},
   "outputs": [],
   "source": [
    "classifier.save_compact_model('biblechap_CLSTM.pkl')"
   ]
  },
  {
   "cell_type": "markdown",
   "metadata": {},
   "source": [
    "# Prediction"
   ]
  },
  {
   "cell_type": "code",
   "execution_count": 4,
   "metadata": {},
   "outputs": [
    {
     "name": "stderr",
     "output_type": "stream",
     "text": [
      "/usr/local/lib/python3.5/dist-packages/smart_open/smart_open_lib.py:398: UserWarning: This function is deprecated, use smart_open.open instead. See the migration notes for details: https://github.com/RaRe-Technologies/smart_open/blob/master/README.rst#migrating-to-the-new-open-function\n",
      "  'See the migration notes for details: %s' % _MIGRATION_NOTES_URL\n"
     ]
    }
   ],
   "source": [
    "import shorttext\n",
    "\n",
    "wmodel = shorttext.utils.load_word2vec_model('wordembedD/GoogleNews-vectors-negative300.bin')"
   ]
  },
  {
   "cell_type": "code",
   "execution_count": 6,
   "metadata": {},
   "outputs": [
    {
     "name": "stdout",
     "output_type": "stream",
     "text": [
      "WARNING:tensorflow:From /usr/local/lib/python3.5/dist-packages/tensorflow/python/framework/op_def_library.py:263: colocate_with (from tensorflow.python.framework.ops) is deprecated and will be removed in a future version.\n",
      "Instructions for updating:\n",
      "Colocations handled automatically by placer.\n",
      "WARNING:tensorflow:From /usr/local/lib/python3.5/dist-packages/keras/backend/tensorflow_backend.py:3445: calling dropout (from tensorflow.python.ops.nn_ops) with keep_prob is deprecated and will be removed in a future version.\n",
      "Instructions for updating:\n",
      "Please use `rate` instead of `keep_prob`. Rate should be set to `rate = 1 - keep_prob`.\n"
     ]
    }
   ],
   "source": [
    "classifier = shorttext.smartload_compact_model('biblechap_CLSTM.pkl', wmodel)"
   ]
  },
  {
   "cell_type": "code",
   "execution_count": 11,
   "metadata": {},
   "outputs": [
    {
     "data": {
      "text/plain": [
       "[('mic_3', 0.0896541),\n",
       " ('is_30', 0.031264406),\n",
       " ('eze_45', 0.028011644),\n",
       " ('is_56', 0.022064975),\n",
       " ('2ch_19', 0.02097103),\n",
       " ('lk_18', 0.019383995),\n",
       " ('am_5', 0.01881196),\n",
       " ('mt_12', 0.015013556),\n",
       " ('ec_3', 0.014086917),\n",
       " ('1sa_15', 0.013358957)]"
      ]
     },
     "execution_count": 11,
     "metadata": {},
     "output_type": "execute_result"
    }
   ],
   "source": [
    "sorted(classifier.score('justice').items(), key=lambda item: item[1], reverse=True)[:10]"
   ]
  },
  {
   "cell_type": "code",
   "execution_count": null,
   "metadata": {},
   "outputs": [],
   "source": []
  }
 ],
 "metadata": {
  "kernelspec": {
   "display_name": "Python 3",
   "language": "python",
   "name": "python3"
  },
  "language_info": {
   "codemirror_mode": {
    "name": "ipython",
    "version": 3
   },
   "file_extension": ".py",
   "mimetype": "text/x-python",
   "name": "python",
   "nbconvert_exporter": "python",
   "pygments_lexer": "ipython3",
   "version": "3.5.3"
  }
 },
 "nbformat": 4,
 "nbformat_minor": 2
}

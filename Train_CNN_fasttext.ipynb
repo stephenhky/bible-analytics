{
 "cells": [
  {
   "cell_type": "code",
   "execution_count": 1,
   "metadata": {},
   "outputs": [],
   "source": [
    "from bibleabbr import *"
   ]
  },
  {
   "cell_type": "code",
   "execution_count": 2,
   "metadata": {},
   "outputs": [
    {
     "name": "stderr",
     "output_type": "stream",
     "text": [
      "Using TensorFlow backend.\n",
      "/usr/local/lib/python3.5/dist-packages/sklearn/externals/joblib/__init__.py:15: DeprecationWarning: sklearn.externals.joblib is deprecated in 0.21 and will be removed in 0.23. Please import this functionality directly from joblib, which can be installed with: pip install joblib. If this warning is raised when loading pickled models, you may need to re-serialize those models with scikit-learn 0.21+.\n",
      "  warnings.warn(msg, category=DeprecationWarning)\n"
     ]
    }
   ],
   "source": [
    "import numpy as np\n",
    "import shorttext\n",
    "import sqlite3"
   ]
  },
  {
   "cell_type": "markdown",
   "metadata": {},
   "source": [
    "# Scripture Loaded"
   ]
  },
  {
   "cell_type": "code",
   "execution_count": 3,
   "metadata": {},
   "outputs": [],
   "source": [
    "dbconn = sqlite3.connect('ESVCrossway.sqlite')"
   ]
  },
  {
   "cell_type": "code",
   "execution_count": 4,
   "metadata": {},
   "outputs": [],
   "source": [
    "from functools import reduce\n",
    "from nltk import sent_tokenize\n",
    "\n",
    "def retrieve_docs_as_biblechapters(dbconn):\n",
    "    cursor = dbconn.cursor()\n",
    "    for book in wholebible_book_iterator():\n",
    "        for chap in range(1, numchaps[book]+1):\n",
    "            doc_label = book+'_'+str(chap)\n",
    "            result = cursor.execute('select scripture from bible where book is \"'+book+'\" and chapter='+str(chap))\n",
    "            doc_text = reduce(lambda s1, s2: ' '.join([s1, s2]), [texttuple[0] for texttuple in result])\n",
    "            yield doc_label, doc_text\n",
    "    cursor.close()\n",
    "    "
   ]
  },
  {
   "cell_type": "code",
   "execution_count": 5,
   "metadata": {},
   "outputs": [],
   "source": [
    "from collections import defaultdict\n",
    "\n",
    "classdict = defaultdict(lambda : [])\n",
    "for bible_chap, verses in retrieve_docs_as_biblechapters(dbconn):\n",
    "    for verse in sent_tokenize(verses):\n",
    "        classdict[bible_chap] += [verse]"
   ]
  },
  {
   "cell_type": "markdown",
   "metadata": {},
   "source": [
    "# C-LSTM"
   ]
  },
  {
   "cell_type": "code",
   "execution_count": 6,
   "metadata": {},
   "outputs": [
    {
     "name": "stderr",
     "output_type": "stream",
     "text": [
      "/usr/local/lib/python3.5/dist-packages/smart_open/smart_open_lib.py:398: UserWarning: This function is deprecated, use smart_open.open instead. See the migration notes for details: https://github.com/RaRe-Technologies/smart_open/blob/master/README.rst#migrating-to-the-new-open-function\n",
      "  'See the migration notes for details: %s' % _MIGRATION_NOTES_URL\n"
     ]
    }
   ],
   "source": [
    "wmodel = shorttext.utils.load_word2vec_model('wordembedD/wiki-news-300d-1M.vec', binary=False)"
   ]
  },
  {
   "cell_type": "code",
   "execution_count": 7,
   "metadata": {},
   "outputs": [
    {
     "name": "stdout",
     "output_type": "stream",
     "text": [
      "WARNING:tensorflow:From /usr/local/lib/python3.5/dist-packages/tensorflow/python/framework/op_def_library.py:263: colocate_with (from tensorflow.python.framework.ops) is deprecated and will be removed in a future version.\n",
      "Instructions for updating:\n",
      "Colocations handled automatically by placer.\n"
     ]
    }
   ],
   "source": [
    "kmodel = shorttext.classifiers.CNNWordEmbed(len(classdict.keys()), vecsize=wmodel.vector_size)"
   ]
  },
  {
   "cell_type": "code",
   "execution_count": 8,
   "metadata": {},
   "outputs": [],
   "source": [
    "classifier = shorttext.classifiers.VarNNEmbeddedVecClassifier(wmodel)"
   ]
  },
  {
   "cell_type": "code",
   "execution_count": 9,
   "metadata": {},
   "outputs": [
    {
     "name": "stdout",
     "output_type": "stream",
     "text": [
      "WARNING:tensorflow:From /usr/local/lib/python3.5/dist-packages/tensorflow/python/ops/math_ops.py:3066: to_int32 (from tensorflow.python.ops.math_ops) is deprecated and will be removed in a future version.\n",
      "Instructions for updating:\n",
      "Use tf.cast instead.\n",
      "Epoch 1/10\n",
      "35885/35885 [==============================] - 54s 2ms/step - loss: 6.1203\n",
      "Epoch 2/10\n",
      "35885/35885 [==============================] - 53s 1ms/step - loss: 4.0913\n",
      "Epoch 3/10\n",
      "35885/35885 [==============================] - 53s 1ms/step - loss: 2.8235\n",
      "Epoch 4/10\n",
      "35885/35885 [==============================] - 54s 1ms/step - loss: 1.8617\n",
      "Epoch 5/10\n",
      "35885/35885 [==============================] - 53s 1ms/step - loss: 1.1644\n",
      "Epoch 6/10\n",
      "35885/35885 [==============================] - 53s 1ms/step - loss: 0.7227\n",
      "Epoch 7/10\n",
      "35885/35885 [==============================] - 53s 1ms/step - loss: 0.4709\n",
      "Epoch 8/10\n",
      "35885/35885 [==============================] - 52s 1ms/step - loss: 0.3421\n",
      "Epoch 9/10\n",
      "35885/35885 [==============================] - 53s 1ms/step - loss: 0.2778\n",
      "Epoch 10/10\n",
      "35885/35885 [==============================] - 35s 978us/step - loss: 0.2458\n"
     ]
    }
   ],
   "source": [
    "classifier.train(classdict, kmodel)"
   ]
  },
  {
   "cell_type": "code",
   "execution_count": 10,
   "metadata": {},
   "outputs": [],
   "source": [
    "classifier.save_compact_model('biblechap_CNN_ft.pkl')"
   ]
  },
  {
   "cell_type": "markdown",
   "metadata": {},
   "source": [
    "# Prediction"
   ]
  },
  {
   "cell_type": "code",
   "execution_count": 4,
   "metadata": {},
   "outputs": [
    {
     "name": "stderr",
     "output_type": "stream",
     "text": [
      "/usr/local/lib/python3.5/dist-packages/smart_open/smart_open_lib.py:398: UserWarning: This function is deprecated, use smart_open.open instead. See the migration notes for details: https://github.com/RaRe-Technologies/smart_open/blob/master/README.rst#migrating-to-the-new-open-function\n",
      "  'See the migration notes for details: %s' % _MIGRATION_NOTES_URL\n"
     ]
    }
   ],
   "source": [
    "import shorttext\n",
    "\n",
    "wmodel = shorttext.utils.load_word2vec_model('wordembedD/wiki-news-300d-1M.vec', binary=False)"
   ]
  },
  {
   "cell_type": "code",
   "execution_count": 11,
   "metadata": {},
   "outputs": [],
   "source": [
    "classifier = shorttext.smartload_compact_model('biblechap_CNN_ft.pkl', wmodel)"
   ]
  },
  {
   "cell_type": "code",
   "execution_count": 12,
   "metadata": {},
   "outputs": [
    {
     "data": {
      "text/plain": [
       "[('la_4', 0.116194434),\n",
       " ('ps_99', 0.10750595),\n",
       " ('ps_37', 0.064568534),\n",
       " ('pr_21', 0.052186467),\n",
       " ('mic_3', 0.050938107),\n",
       " ('pr_2', 0.030844092),\n",
       " ('ps_72', 0.027011933),\n",
       " ('is_42', 0.026015548),\n",
       " ('zep_3', 0.02564504),\n",
       " ('is_43', 0.023865286)]"
      ]
     },
     "execution_count": 12,
     "metadata": {},
     "output_type": "execute_result"
    }
   ],
   "source": [
    "sorted(classifier.score('justice').items(), key=lambda item: item[1], reverse=True)[:10]"
   ]
  },
  {
   "cell_type": "code",
   "execution_count": null,
   "metadata": {},
   "outputs": [],
   "source": []
  }
 ],
 "metadata": {
  "kernelspec": {
   "display_name": "Python 3",
   "language": "python",
   "name": "python3"
  },
  "language_info": {
   "codemirror_mode": {
    "name": "ipython",
    "version": 3
   },
   "file_extension": ".py",
   "mimetype": "text/x-python",
   "name": "python",
   "nbconvert_exporter": "python",
   "pygments_lexer": "ipython3",
   "version": "3.5.3"
  }
 },
 "nbformat": 4,
 "nbformat_minor": 2
}
